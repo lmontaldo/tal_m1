{
  "metadata": {
    "kernelspec": {
      "display_name": "Python 3",
      "language": "python",
      "name": "python3"
    },
    "language_info": {
      "name": "python",
      "version": "3.6.4",
      "mimetype": "text/x-python",
      "codemirror_mode": {
        "name": "ipython",
        "version": 3
      },
      "pygments_lexer": "ipython3",
      "nbconvert_exporter": "python",
      "file_extension": ".py"
    },
    "kaggle": {
      "accelerator": "none",
      "dataSources": [
        {
          "sourceId": 3136,
          "databundleVersionId": 26502,
          "sourceType": "competition"
        }
      ],
      "dockerImageVersionId": 24140,
      "isInternetEnabled": false,
      "language": "python",
      "sourceType": "notebook",
      "isGpuEnabled": false
    },
    "colab": {
      "provenance": []
    }
  },
  "nbformat_minor": 0,
  "nbformat": 4,
  "cells": [
    {
      "cell_type": "code",
      "source": [
        "import pandas as pd"
      ],
      "metadata": {
        "id": "OvVhqcWhsQrw"
      },
      "execution_count": null,
      "outputs": []
    },
    {
      "cell_type": "code",
      "source": [
        "%matplotlib inline\n",
        "\n",
        "import numpy as np\n",
        "import pandas as pd\n",
        "import scipy.stats as stats\n",
        "import matplotlib.pyplot as plt\n",
        "import random\n",
        "import math"
      ],
      "metadata": {
        "trusted": true,
        "id": "fmaUz6lmrk6x"
      },
      "outputs": [],
      "execution_count": null
    },
    {
      "cell_type": "markdown",
      "source": [
        "## **Lab 2 : Confidence Intervals**"
      ],
      "metadata": {
        "_uuid": "8f2839f25d086af736a60e9eeb907d3b93b6e0e5",
        "_cell_guid": "b1076dfc-b9ad-4769-8c92-a6c4dae69d19",
        "trusted": true,
        "id": "o2hcDG7Ark6w"
      }
    },
    {
      "cell_type": "markdown",
      "source": [
        "Statistical inference is the process of analyzing sample data to gain insight into the population from which the data was collected and to investigate differences between data samples. In data analysis, we are often interested in the characteristics of some large population, but collecting data on the entire population may be infeasible. For example, leading up to U.S. presidential elections it could be very useful to know the political leanings of every single eligible voter, but surveying every voter is not feasible. Instead, we could poll some subset of the population, such as a thousand registered voters, and use that data to make inferences about the population as a whole."
      ],
      "metadata": {
        "_cell_guid": "79c7e3d0-c299-4dcb-8224-4455121ee9b0",
        "collapsed": true,
        "_uuid": "d629ff2d2480ee46fbb7e2d37f6b5fab8052498a",
        "trusted": false,
        "jupyter": {
          "outputs_hidden": true
        },
        "id": "ElLB-4USrk6x"
      }
    },
    {
      "cell_type": "markdown",
      "source": [
        "## **Exercise 1**"
      ],
      "metadata": {
        "id": "zW89eAQExYoh"
      }
    },
    {
      "cell_type": "markdown",
      "source": [
        "## **Point Estimates**"
      ],
      "metadata": {
        "id": "gcfak6qjrk6x"
      }
    },
    {
      "cell_type": "markdown",
      "source": [
        "Point estimates are estimates of population parameters based on sample data. For instance, if we wanted to know the average age of registered voters in the U.S., we could take a survey of registered voters and then use the average age of the respondents as a point estimate of the average age of the population as a whole. The average of a sample is known as the sample mean.\n",
        "\n",
        "The sample mean is usually not exactly the same as the population mean. This difference can be caused by many factors including poor survey design, biased sampling methods and the randomness inherent to drawing a sample from a population. Let's investigate point estimates by generating a population of random age data and then drawing a sample from it to estimate the mean:"
      ],
      "metadata": {
        "id": "tQbNpS87rk6x"
      }
    },
    {
      "cell_type": "markdown",
      "source": [
        "## **Question 1 : point estimate of a mean**"
      ],
      "metadata": {
        "id": "us3FN1ZHtQBp"
      }
    },
    {
      "cell_type": "markdown",
      "source": [
        "We generate a sample of a synthetic population with different ages : ages1 (adults) and ages 2 (children)"
      ],
      "metadata": {
        "id": "lka_WubhtYHg"
      }
    },
    {
      "cell_type": "code",
      "source": [
        "np.random.seed(10)\n",
        "population_ages1 = stats.poisson.rvs(loc=18, mu=35, size=150000)\n",
        "population_ages2 = stats.poisson.rvs(loc=18, mu=10, size=100000)"
      ],
      "metadata": {
        "trusted": true,
        "id": "ZIi67hCxrk6y"
      },
      "outputs": [],
      "execution_count": null
    },
    {
      "cell_type": "markdown",
      "source": [
        "## **Question 1-a**"
      ],
      "metadata": {
        "id": "OHvH-e1EuHPh"
      }
    },
    {
      "cell_type": "markdown",
      "source": [
        "Concatenate the two populations. What is the mean of the whole population?"
      ],
      "metadata": {
        "id": "COUeRX8KtdfR"
      }
    },
    {
      "cell_type": "code",
      "source": [],
      "metadata": {
        "id": "jGB_MkQs9Xbo"
      },
      "execution_count": null,
      "outputs": []
    },
    {
      "cell_type": "markdown",
      "source": [
        "## **Question 1-b**"
      ],
      "metadata": {
        "id": "Gyq_XfIpuNwa"
      }
    },
    {
      "cell_type": "markdown",
      "source": [
        "Sample 1000 values of the whole population. Show the sample mean. What is the difference between the sample mean and the true mean? Comment!\n"
      ],
      "metadata": {
        "id": "IPqXqoqgt3Rp"
      }
    },
    {
      "cell_type": "code",
      "source": [],
      "metadata": {
        "id": "DS6kFM-29Y2Y"
      },
      "execution_count": null,
      "outputs": []
    },
    {
      "cell_type": "markdown",
      "source": [
        "## **Question 2 : point estimate of a proportion**"
      ],
      "metadata": {
        "id": "NeL9uRCJurGK"
      }
    },
    {
      "cell_type": "markdown",
      "source": [
        "Another point estimate that may be of interest is the proportion of the population that belongs to some category or subgroup. For example, we might like to know the race of each voter we poll, to get a sense of the overall demographics of the voter base."
      ],
      "metadata": {
        "id": "Rr42maSbuqQr"
      }
    },
    {
      "cell_type": "markdown",
      "source": [
        "We simulate a synthetic example"
      ],
      "metadata": {
        "id": "lGn4YtVxvDjs"
      }
    },
    {
      "cell_type": "code",
      "source": [
        "population_students = ([\"Humanities\"]*500000) + ([\"Sciences\"]*300000) +\\\n",
        "                   ([\"Medecine\"]*200000) + ([\"Economics\"]*400000) +\\\n",
        "                   ([\"other\"]*30000)"
      ],
      "metadata": {
        "trusted": true,
        "id": "zKm7lJimrk6y"
      },
      "outputs": [],
      "execution_count": null
    },
    {
      "cell_type": "markdown",
      "source": [
        "Sample 1000 values and calculate a point estimate of the proportion of each category of students on each category of the population. Comment!"
      ],
      "metadata": {
        "id": "R0ELdZqgwpa_"
      }
    },
    {
      "cell_type": "code",
      "source": [],
      "metadata": {
        "id": "XJEbqziU9auQ"
      },
      "execution_count": null,
      "outputs": []
    },
    {
      "cell_type": "markdown",
      "source": [
        "## **Exercise 2**"
      ],
      "metadata": {
        "id": "gmRbwouNxOyP"
      }
    },
    {
      "cell_type": "markdown",
      "source": [
        "## **Sampling Distributions and discovering empirically the Central Limit Theorem**"
      ],
      "metadata": {
        "id": "sp_Pf0fErk6y"
      }
    },
    {
      "cell_type": "markdown",
      "source": [
        "Many statistical procedures assume that data follows a normal distribution, because the normal distribution has nice properties like symmetricity and having the majority of the data clustered within a few standard deviations of the mean. Unfortunately, real world data is often not normally distributed and the distribution of a sample tends to mirror the distribution of the population. This means a sample taken from a population with a skewed distribution will also tend to be skewed."
      ],
      "metadata": {
        "id": "RfC6c1uXrk6z"
      }
    },
    {
      "cell_type": "markdown",
      "source": [
        "## **Question 1**"
      ],
      "metadata": {
        "id": "_0I7QUvVxuCC"
      }
    },
    {
      "cell_type": "markdown",
      "source": [
        "Transform the numpy array **population_ages** into a Dataframe and visualize its histogram. Recall what is the skewness and print the skewness of this population. Is it consistent with the histogram? Are the data following a Gaussian distribution?"
      ],
      "metadata": {
        "id": "Be6qhF8Gxwsa"
      }
    },
    {
      "cell_type": "code",
      "source": [],
      "metadata": {
        "id": "PckBtxrR9cqB"
      },
      "execution_count": null,
      "outputs": []
    },
    {
      "cell_type": "markdown",
      "source": [
        "## **Question 2**"
      ],
      "metadata": {
        "id": "fZnw6tUMyz2m"
      }
    },
    {
      "cell_type": "markdown",
      "source": [
        "Extract a sample from the whole population and do the same ! Comment."
      ],
      "metadata": {
        "id": "tssDgyOay1xN"
      }
    },
    {
      "cell_type": "code",
      "source": [],
      "metadata": {
        "id": "JklakTI19h3w"
      },
      "execution_count": null,
      "outputs": []
    },
    {
      "cell_type": "markdown",
      "source": [
        "The sample has roughly the same shape as the underlying population. This suggests that we can't apply techniques that assume a normal distribution to this data set, since it is not normal. In reality, we can, thanks the central limit theorem.\n",
        "\n",
        "The central limit theorem is one of the most important results of probability theory and serves as the foundation of many methods of statistical analysis. At a high level, the theorem states the distribution of many sample means, known as a sampling distribution, will be normally distributed. This rule holds even if the underlying distribution itself is not normally distributed. As a result we can treat the sample mean as if it were drawn normal distribution.\n",
        "\n",
        "To illustrate, let's create a sampling distribution by taking 200 samples from our population and then making 200 point estimates of the mean:"
      ],
      "metadata": {
        "id": "DqqbfcfNrk6z"
      }
    },
    {
      "cell_type": "markdown",
      "source": [
        "## **Question 3**"
      ],
      "metadata": {
        "id": "4MF7dciYzCSG"
      }
    },
    {
      "cell_type": "markdown",
      "source": [
        "## **Central limit theorem to the recourse!**"
      ],
      "metadata": {
        "id": "usKoD76SzEUm"
      }
    },
    {
      "cell_type": "markdown",
      "source": [
        "The central limit theorem is one of the most important results of probability theory and serves as the foundation of many methods of statistical analysis. At a high level, the theorem states the distribution of many sample means, known as a sampling distribution, will be normally distributed. This rule holds even if the underlying distribution itself is not normally distributed. As a result we can treat the sample mean as if it were drawn normal distribution."
      ],
      "metadata": {
        "id": "Bw57AkHVzIb2"
      }
    },
    {
      "cell_type": "markdown",
      "source": [
        "## **Question 3-a**"
      ],
      "metadata": {
        "id": "CM1juyBjzTre"
      }
    },
    {
      "cell_type": "markdown",
      "source": [
        "Create a sampling distribution by taking 200 samples from the whole population. Thereafter make 200 point estimates of the mean"
      ],
      "metadata": {
        "id": "z9aFXCIGzNYe"
      }
    },
    {
      "cell_type": "code",
      "source": [],
      "metadata": {
        "id": "07oVUgLn9lIY"
      },
      "execution_count": null,
      "outputs": []
    },
    {
      "cell_type": "markdown",
      "source": [
        "## **Question 3-b**"
      ],
      "metadata": {
        "id": "hrmSQVTuzsuO"
      }
    },
    {
      "cell_type": "markdown",
      "source": [
        "Visualize using an histogram the distribution of the 200 point estimates of the mean. Compare the mean of these new observatiosn with the true mean of the whole population and comment!"
      ],
      "metadata": {
        "id": "3lpNzzIJzZ4_"
      }
    },
    {
      "cell_type": "code",
      "source": [],
      "metadata": {
        "id": "aPN__EAc9mQh"
      },
      "execution_count": null,
      "outputs": []
    },
    {
      "cell_type": "markdown",
      "source": [
        "## **Exercise 3**"
      ],
      "metadata": {
        "id": "qd1xDlyT0C8h"
      }
    },
    {
      "cell_type": "markdown",
      "source": [
        "## **Confidence Intervals**"
      ],
      "metadata": {
        "id": "lY38UvO8rk6z"
      }
    },
    {
      "cell_type": "markdown",
      "source": [
        "A point estimate can give you a rough idea of a population parameter like the mean, but estimates are prone to error and taking multiple samples to get improved estimates may not be feasible. A confidence interval is a range of values above and below a point estimate that captures the true population parameter at some predetermined confidence level. For example, if you want to have a 95% chance of capturing the true population parameter with a point estimate and a corresponding confidence interval, you'd set your confidence level to 95%. Higher confidence levels result in a wider confidence intervals.\n",
        "\n",
        "Calculate a confidence interval by taking a point estimate and then adding and subtracting a margin of error to create a range. Margin of error is based on your desired confidence level, the spread of the data and the size of your sample. The way you calculate the margin of error depends on whether you know the standard deviation of the population or not."
      ],
      "metadata": {
        "id": "6NGO8c-qrk6z"
      }
    },
    {
      "cell_type": "markdown",
      "source": [
        "## **Part I**"
      ],
      "metadata": {
        "id": "8sdGtc6Y6Obq"
      }
    },
    {
      "cell_type": "markdown",
      "source": [
        "## **First case : you know the standard deviation of the population**"
      ],
      "metadata": {
        "id": "IO5c6DxQ5fmH"
      }
    },
    {
      "cell_type": "markdown",
      "source": [
        "In this case, the margin of error is equal to:"
      ],
      "metadata": {
        "id": "GDCq9P0c5kxX"
      }
    },
    {
      "cell_type": "markdown",
      "source": [
        "$$z \\times \\frac{\\sigma}{\\sqrt{n}}$$"
      ],
      "metadata": {
        "id": "OvpBrEjJrk6z"
      }
    },
    {
      "cell_type": "markdown",
      "source": [
        "Where σ (sigma) is the population standard deviation, n is sample size, and z is a number known as the z-critical value. The z-critical value is the number of standard deviations you'd have to go from the mean of the normal distribution to capture the proportion of the data associated with the desired confidence level. For instance, we know that roughly 95% of the data in a normal distribution lies within 2 standard deviations of the mean, so we could use 2 as the z-critical value for a 95% confidence interval (although it is more exact to get z-critical values with stats.norm.ppf().)."
      ],
      "metadata": {
        "id": "IBjgiE0grk6z"
      }
    },
    {
      "cell_type": "markdown",
      "source": [
        "## **Question 1**"
      ],
      "metadata": {
        "id": "C1bAgTTZ4LgN"
      }
    },
    {
      "cell_type": "markdown",
      "source": [
        "Calculate a 95% confidence for the mean point estimate calculated in Exercise 1 using the formula given in Lecture 2:"
      ],
      "metadata": {
        "id": "AdppBGJ74Nyc"
      }
    },
    {
      "cell_type": "code",
      "source": [],
      "metadata": {
        "id": "WrTme8cO9rb5"
      },
      "execution_count": null,
      "outputs": []
    },
    {
      "cell_type": "markdown",
      "source": [
        "## **Question 2**"
      ],
      "metadata": {
        "id": "GsTYmk3M4bH0"
      }
    },
    {
      "cell_type": "markdown",
      "source": [
        "## **Question 2-a**"
      ],
      "metadata": {
        "id": "VyCBwdJC5Sku"
      }
    },
    {
      "cell_type": "markdown",
      "source": [
        "Sample several times the whole population and create several confidence intervals from the formula corresponding to these samples"
      ],
      "metadata": {
        "id": "q0MbvKxJ4eZ0"
      }
    },
    {
      "cell_type": "code",
      "source": [],
      "metadata": {
        "id": "EZzNaZT59tdw"
      },
      "execution_count": null,
      "outputs": []
    },
    {
      "cell_type": "markdown",
      "source": [
        "## **Question 2-b**"
      ],
      "metadata": {
        "id": "B6QNcS0j5W0n"
      }
    },
    {
      "cell_type": "markdown",
      "source": [
        "Plot them to get a better sense of what it means to \"capture\" the true mean:"
      ],
      "metadata": {
        "id": "_5tw8aOz5VdH"
      }
    },
    {
      "cell_type": "code",
      "source": [],
      "metadata": {
        "id": "YmmYcget9unb"
      },
      "execution_count": null,
      "outputs": []
    },
    {
      "cell_type": "markdown",
      "source": [
        "## **Part II**"
      ],
      "metadata": {
        "id": "SsX0MqzV6TZ6"
      }
    },
    {
      "cell_type": "markdown",
      "source": [
        "## **Second case : you do not know the standard deviation of the population**"
      ],
      "metadata": {
        "id": "OAMUuRU85yHJ"
      }
    },
    {
      "cell_type": "markdown",
      "source": [
        "In this case, you have to use the standard deviation of your sample as a stand in when creating confidence intervals. Since the sample standard deviation may not match the population parameter the interval will have more error when you don't know the population standard deviation. To account for this error, we use what's known as a t-critical value instead of the z-critical value. The t-critical value is drawn from what's known as a t-distribution--a distribution that closely resembles the normal distribution but that gets wider and wider as the sample size falls. The t-distribution is available in scipy.stats with the nickname \"t\" so we can get t-critical values with stats.t.ppf().\n",
        "\n",
        "Let's take a new, smaller sample and then create a confidence interval without the population standard deviation, using the t-distribution:"
      ],
      "metadata": {
        "id": "M5UGhTuC5uk4"
      }
    },
    {
      "cell_type": "markdown",
      "source": [
        "To account for this error, we use what's known as a t-critical value instead of the z-critical value. The t-critical value is drawn from what's known as a t-distribution--a distribution that closely resembles the normal distribution but that gets wider and wider as the sample size falls. The t-distribution is available in scipy.stats with the nickname \"t\" so we can get t-critical values with stats.t.ppf()."
      ],
      "metadata": {
        "id": "pJEIEegD5_HB"
      }
    },
    {
      "cell_type": "markdown",
      "source": [
        "## **Question 4**"
      ],
      "metadata": {
        "id": "WBXMlRW16Ec5"
      }
    },
    {
      "cell_type": "markdown",
      "source": [
        "## **Question 4-a**"
      ],
      "metadata": {
        "id": "xg4S1Ukd6WyC"
      }
    },
    {
      "cell_type": "markdown",
      "source": [
        "Take a new, smaller sample of size 25"
      ],
      "metadata": {
        "id": "9YhjiWGj6a9a"
      }
    },
    {
      "cell_type": "code",
      "source": [],
      "metadata": {
        "id": "wo61ch309xNj"
      },
      "execution_count": null,
      "outputs": []
    },
    {
      "cell_type": "markdown",
      "source": [
        "Create a confidence interval from the formula without the population standard deviation, using the t-distribution. Comment!"
      ],
      "metadata": {
        "id": "C7tjiaU06BIy"
      }
    },
    {
      "cell_type": "code",
      "source": [],
      "metadata": {
        "id": "jk7rm8Gg9yYi"
      },
      "execution_count": null,
      "outputs": []
    },
    {
      "cell_type": "markdown",
      "source": [
        "## **Question 4-b**"
      ],
      "metadata": {
        "id": "mZxwyYmo7B99"
      }
    },
    {
      "cell_type": "markdown",
      "source": [
        "What happens you have a large sample? Compare the t-critical value with the z-critical value. Comment!"
      ],
      "metadata": {
        "id": "jmtcCkXW63x9"
      }
    },
    {
      "cell_type": "code",
      "source": [],
      "metadata": {
        "id": "XS4-gj-790RR"
      },
      "execution_count": null,
      "outputs": []
    },
    {
      "cell_type": "markdown",
      "source": [
        "## **Question 4-c**"
      ],
      "metadata": {
        "id": "Y98vjhZC7FGe"
      }
    },
    {
      "cell_type": "markdown",
      "source": [
        "Calculate the confidence interval using the Python function stats.t.interval():"
      ],
      "metadata": {
        "id": "uu7KWHOork60"
      }
    },
    {
      "cell_type": "code",
      "source": [],
      "metadata": {
        "id": "snl89RkW92bJ"
      },
      "execution_count": null,
      "outputs": []
    },
    {
      "cell_type": "markdown",
      "source": [
        "## **Part III**"
      ],
      "metadata": {
        "id": "ewgGRowt85uX"
      }
    },
    {
      "cell_type": "markdown",
      "source": [
        "## **Confidence interval for a population proportion**"
      ],
      "metadata": {
        "id": "U0rMRjWf8X1d"
      }
    },
    {
      "cell_type": "markdown",
      "source": [
        "We can also make a confidence interval for a point estimate of a population proportion. In this case, the margin of error equals:\n",
        "\n",
        "$$z \\times \\sqrt{\\frac{p(1-p)}{n}}$$\n",
        "\n",
        "Where z is the z-critical value for our confidence level, p is the point estimate of the population proportion and n is the sample size."
      ],
      "metadata": {
        "id": "wvomjHvqrk60"
      }
    },
    {
      "cell_type": "markdown",
      "source": [
        "## **Question 5**"
      ],
      "metadata": {
        "id": "vwfTi6D18V7d"
      }
    },
    {
      "cell_type": "markdown",
      "source": [
        "## **Question 5-a**"
      ],
      "metadata": {
        "id": "O40XeUn49Ino"
      }
    },
    {
      "cell_type": "markdown",
      "source": [
        "Calculate a 95% confidence interval for Humanities according to the sample proportion ($p=0.338$) we calculated earlier :"
      ],
      "metadata": {
        "id": "sb7lS7hL8hrP"
      }
    },
    {
      "cell_type": "code",
      "source": [],
      "metadata": {
        "id": "-CXhVYSg95UB"
      },
      "execution_count": null,
      "outputs": []
    },
    {
      "cell_type": "markdown",
      "source": [
        "## **Question 5-b**"
      ],
      "metadata": {
        "id": "ZQ4k4AeK9DeH"
      }
    },
    {
      "cell_type": "markdown",
      "source": [
        "Same with Python"
      ],
      "metadata": {
        "id": "D8yqfi2C9F8n"
      }
    },
    {
      "cell_type": "code",
      "source": [],
      "metadata": {
        "id": "ncClBtdE96yA"
      },
      "execution_count": null,
      "outputs": []
    }
  ]
}