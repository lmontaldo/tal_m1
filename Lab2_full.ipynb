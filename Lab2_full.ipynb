{
  "cells": [
    {
      "cell_type": "code",
      "execution_count": null,
      "metadata": {
        "id": "OvVhqcWhsQrw"
      },
      "outputs": [],
      "source": [
        "import pandas as pd"
      ]
    },
    {
      "cell_type": "code",
      "execution_count": 1,
      "metadata": {
        "id": "fmaUz6lmrk6x",
        "trusted": true
      },
      "outputs": [],
      "source": [
        "%matplotlib inline\n",
        "\n",
        "import numpy as np\n",
        "import pandas as pd\n",
        "import scipy.stats as stats\n",
        "import matplotlib.pyplot as plt\n",
        "import random\n",
        "import math"
      ]
    },
    {
      "cell_type": "code",
      "execution_count": null,
      "metadata": {
        "id": "mbtcePN0rk6w"
      },
      "outputs": [],
      "source": [
        "df_titanic=pd.read_csv('/content/titanic.csv')\n"
      ]
    },
    {
      "cell_type": "markdown",
      "metadata": {
        "_cell_guid": "b1076dfc-b9ad-4769-8c92-a6c4dae69d19",
        "_uuid": "8f2839f25d086af736a60e9eeb907d3b93b6e0e5",
        "id": "o2hcDG7Ark6w",
        "trusted": true
      },
      "source": [
        "## **Lab 2 : Confidence Intervals**"
      ]
    },
    {
      "cell_type": "markdown",
      "metadata": {
        "_cell_guid": "79c7e3d0-c299-4dcb-8224-4455121ee9b0",
        "_uuid": "d629ff2d2480ee46fbb7e2d37f6b5fab8052498a",
        "collapsed": true,
        "id": "ElLB-4USrk6x",
        "jupyter": {
          "outputs_hidden": true
        },
        "trusted": false
      },
      "source": [
        "Statistical inference is the process of analyzing sample data to gain insight into the population from which the data was collected and to investigate differences between data samples. In data analysis, we are often interested in the characteristics of some large population, but collecting data on the entire population may be infeasible. For example, leading up to U.S. presidential elections it could be very useful to know the political leanings of every single eligible voter, but surveying every voter is not feasible. Instead, we could poll some subset of the population, such as a thousand registered voters, and use that data to make inferences about the population as a whole."
      ]
    },
    {
      "cell_type": "markdown",
      "metadata": {
        "id": "zW89eAQExYoh"
      },
      "source": [
        "## **Exercise 1**"
      ]
    },
    {
      "cell_type": "markdown",
      "metadata": {
        "id": "gcfak6qjrk6x"
      },
      "source": [
        "## **Point Estimates**"
      ]
    },
    {
      "cell_type": "markdown",
      "metadata": {
        "id": "tQbNpS87rk6x"
      },
      "source": [
        "Point estimates are estimates of population parameters based on sample data. For instance, if we wanted to know the average age of registered voters in the U.S., we could take a survey of registered voters and then use the average age of the respondents as a point estimate of the average age of the population as a whole. The average of a sample is known as the sample mean.\n",
        "\n",
        "The sample mean is usually not exactly the same as the population mean. This difference can be caused by many factors including poor survey design, biased sampling methods and the randomness inherent to drawing a sample from a population. Let's investigate point estimates by generating a population of random age data and then drawing a sample from it to estimate the mean:"
      ]
    },
    {
      "cell_type": "markdown",
      "metadata": {
        "id": "us3FN1ZHtQBp"
      },
      "source": [
        "## **Question 1 : point estimate of a mean**"
      ]
    },
    {
      "cell_type": "markdown",
      "metadata": {
        "id": "lka_WubhtYHg"
      },
      "source": [
        "We generate a sample of a synthetic population with different ages : ages1 (adults) and ages 2 (children)"
      ]
    },
    {
      "cell_type": "code",
      "execution_count": 3,
      "metadata": {
        "id": "ZIi67hCxrk6y",
        "trusted": true
      },
      "outputs": [],
      "source": [
        "np.random.seed(10)\n",
        "population_ages1 = stats.poisson.rvs(loc=18, mu=35, size=150000)\n",
        "population_ages2 = stats.poisson.rvs(loc=18, mu=10, size=100000)"
      ]
    },
    {
      "cell_type": "markdown",
      "metadata": {
        "id": "OHvH-e1EuHPh"
      },
      "source": [
        "## **Question 1-a**"
      ]
    },
    {
      "cell_type": "markdown",
      "metadata": {
        "id": "COUeRX8KtdfR"
      },
      "source": [
        "Concatenate the two populations. What is the mean of the whole population?"
      ]
    },
    {
      "cell_type": "code",
      "execution_count": 4,
      "metadata": {
        "colab": {
          "base_uri": "https://localhost:8080/"
        },
        "id": "FN89XNqrtsuy",
        "outputId": "d1939a30-eaaf-4950-d166-7e1ac0d29427"
      },
      "outputs": [
        {
          "data": {
            "text/plain": [
              "np.float64(43.002372)"
            ]
          },
          "execution_count": 4,
          "metadata": {},
          "output_type": "execute_result"
        }
      ],
      "source": [
        "population_ages = np.concatenate((population_ages1, population_ages2))\n",
        "\n",
        "population_ages.mean()"
      ]
    },
    {
      "cell_type": "markdown",
      "metadata": {
        "id": "Gyq_XfIpuNwa"
      },
      "source": [
        "## **Question 1-b**"
      ]
    },
    {
      "cell_type": "markdown",
      "metadata": {
        "id": "IPqXqoqgt3Rp"
      },
      "source": [
        "Sample 1000 values of the whole population. Show the sample mean. What is the difference between the sample mean and the true mean? Comment!\n"
      ]
    },
    {
      "cell_type": "code",
      "execution_count": 5,
      "metadata": {
        "colab": {
          "base_uri": "https://localhost:8080/"
        },
        "id": "vC0ZWpn8rk6y",
        "outputId": "0718ec7d-04af-4ace-af01-41a7045ee0c5",
        "trusted": true
      },
      "outputs": [
        {
          "name": "stdout",
          "output_type": "stream",
          "text": [
            "42.388\n"
          ]
        },
        {
          "data": {
            "text/plain": [
              "np.float64(0.614372000000003)"
            ]
          },
          "execution_count": 5,
          "metadata": {},
          "output_type": "execute_result"
        }
      ],
      "source": [
        "np.random.seed(6)\n",
        "sample_ages = np.random.choice(a= population_ages,\n",
        "                               size=500)            # Sample 1000 values\n",
        "\n",
        "print ( sample_ages.mean() )                         # Show sample mean\n",
        "\n",
        "population_ages.mean() - sample_ages.mean()   # Check difference between means"
      ]
    },
    {
      "cell_type": "markdown",
      "metadata": {
        "id": "yE5SI9cKrk6y"
      },
      "source": [
        "Our point estimate based on a sample of 500 individuals underestimates the true population mean by 0.6 years, but it is close. This illustrates an important point: we can get a fairly accurate estimate of a large population by sampling a relatively small subset of individuals.\n"
      ]
    },
    {
      "cell_type": "markdown",
      "metadata": {
        "id": "NeL9uRCJurGK"
      },
      "source": [
        "## **Question 2 : point estimate of a proportion**"
      ]
    },
    {
      "cell_type": "markdown",
      "metadata": {
        "id": "Rr42maSbuqQr"
      },
      "source": [
        "Another point estimate that may be of interest is the proportion of the population that belongs to some category or subgroup. For example, we might like to know the race of each voter we poll, to get a sense of the overall demographics of the voter base."
      ]
    },
    {
      "cell_type": "markdown",
      "metadata": {
        "id": "lGn4YtVxvDjs"
      },
      "source": [
        "We simulate a synthetic example"
      ]
    },
    {
      "cell_type": "code",
      "execution_count": 7,
      "metadata": {
        "id": "zKm7lJimrk6y",
        "trusted": true
      },
      "outputs": [],
      "source": [
        "population_students = ([\"Humanities\"]*500000) + ([\"Sciences\"]*300000) +\\\n",
        "                   ([\"Medecine\"]*200000) + ([\"Economics\"]*400000) +\\\n",
        "                   ([\"other\"]*30000)"
      ]
    },
    {
      "cell_type": "markdown",
      "metadata": {
        "id": "R0ELdZqgwpa_"
      },
      "source": [
        "Sample 1000 values and calculate a point estimate of the proportion of each category of students on each category of the population. Comment!"
      ]
    },
    {
      "cell_type": "code",
      "execution_count": 8,
      "metadata": {
        "colab": {
          "base_uri": "https://localhost:8080/"
        },
        "id": "zurp9jEpwq_S",
        "outputId": "993beb66-57b0-42af-9ae3-c94f785b5fd4",
        "trusted": true
      },
      "outputs": [
        {
          "name": "stdout",
          "output_type": "stream",
          "text": [
            "Economics proportion estimate:\n",
            "0.288\n",
            "Humanities proportion estimate:\n",
            "0.339\n",
            "Sciences proportion estimate:\n",
            "0.188\n",
            "Medecine proportion estimate:\n",
            "0.169\n",
            "other proportion estimate:\n",
            "0.016\n"
          ]
        }
      ],
      "source": [
        "random.seed(10)\n",
        "demo_sample = random.sample(population_students,1000)   # Sample 1000 values\n",
        "\n",
        "for students in set(demo_sample):\n",
        "    print( students + \" proportion estimate:\" )\n",
        "    print( demo_sample.count(students)/1000 )"
      ]
    },
    {
      "cell_type": "markdown",
      "metadata": {
        "id": "lX1T1Xb-rk6y"
      },
      "source": [
        "The proportion estimates are close to the true underlying population proportions."
      ]
    },
    {
      "cell_type": "markdown",
      "metadata": {
        "id": "gmRbwouNxOyP"
      },
      "source": [
        "## **Exercise 2**"
      ]
    },
    {
      "cell_type": "markdown",
      "metadata": {
        "id": "sp_Pf0fErk6y"
      },
      "source": [
        "## **Sampling Distributions and discovering empirically the Central Limit Theorem**"
      ]
    },
    {
      "cell_type": "markdown",
      "metadata": {
        "id": "RfC6c1uXrk6z"
      },
      "source": [
        "Many statistical procedures assume that data follows a normal distribution, because the normal distribution has nice properties like symmetricity and having the majority of the data clustered within a few standard deviations of the mean. Unfortunately, real world data is often not normally distributed and the distribution of a sample tends to mirror the distribution of the population. This means a sample taken from a population with a skewed distribution will also tend to be skewed."
      ]
    },
    {
      "cell_type": "markdown",
      "metadata": {
        "id": "_0I7QUvVxuCC"
      },
      "source": [
        "## **Question 1**"
      ]
    },
    {
      "cell_type": "markdown",
      "metadata": {
        "id": "Be6qhF8Gxwsa"
      },
      "source": [
        "Transform the numpy array **population_ages** into a Dataframe and visualize its histogram. Recall what is the skewness and print the skewness of this population. Is it consistent with the histogram? Are the data following a Gaussian distribution?"
      ]
    },
    {
      "cell_type": "code",
      "execution_count": 9,
      "metadata": {
        "colab": {
          "base_uri": "https://localhost:8080/",
          "height": 793
        },
        "id": "XdjyDz_brk6z",
        "outputId": "702dc80a-1063-4fa0-a3cf-d330fe165aff",
        "trusted": true
      },
      "outputs": [
        {
          "name": "stdout",
          "output_type": "stream",
          "text": [
            "-0.12008483603917186\n"
          ]
        },
        {
          "data": {
            "image/png": "[encoded data removed]",
            "text/plain": [
              "<Figure size 900x900 with 1 Axes>"
            ]
          },
          "metadata": {},
          "output_type": "display_data"
        }
      ],
      "source": [
        "df_population_ages=pd.DataFrame(population_ages).hist(bins=58,\n",
        "                                  range=(17.5,75.5),\n",
        "                                  figsize=(9,9))\n",
        "\n",
        "print( stats.skew(population_ages) );"
      ]
    },
    {
      "cell_type": "markdown",
      "metadata": {
        "id": "NGM2mOc2rk6z"
      },
      "source": [
        "The distribution has low skewness, but the plot reveals the data is clearly not normal: instead of one symmetric bell curve, it has as bimodal distribution with two high density peaks. The sample we drew from this population should have roughly the same shape and skew:"
      ]
    },
    {
      "cell_type": "markdown",
      "metadata": {
        "id": "fZnw6tUMyz2m"
      },
      "source": [
        "## **Question 2**"
      ]
    },
    {
      "cell_type": "markdown",
      "metadata": {
        "id": "tssDgyOay1xN"
      },
      "source": [
        "Extract a sample from the whole population and do the same ! Comment."
      ]
    },
    {
      "cell_type": "code",
      "execution_count": 10,
      "metadata": {
        "colab": {
          "base_uri": "https://localhost:8080/",
          "height": 793
        },
        "id": "mq5gDHe3rk6z",
        "outputId": "e1f477d1-4ef0-4249-df75-dc9edf568872",
        "trusted": true
      },
      "outputs": [
        {
          "name": "stdout",
          "output_type": "stream",
          "text": [
            "-0.056225282585406065\n"
          ]
        },
        {
          "data": {
            "image/png": "[encoded data removed]",
            "text/plain": [
              "<Figure size 900x900 with 1 Axes>"
            ]
          },
          "metadata": {},
          "output_type": "display_data"
        }
      ],
      "source": [
        "pd.DataFrame(sample_ages).hist(bins=58,\n",
        "                                  range=(17.5,75.5),\n",
        "                                  figsize=(9,9));\n",
        "\n",
        "print( stats.skew(sample_ages) )"
      ]
    },
    {
      "cell_type": "markdown",
      "metadata": {
        "id": "DqqbfcfNrk6z"
      },
      "source": [
        "The sample has roughly the same shape as the underlying population. This suggests that we can't apply techniques that assume a normal distribution to this data set, since it is not normal. In reality, we can, thanks the central limit theorem.\n",
        "\n",
        "The central limit theorem is one of the most important results of probability theory and serves as the foundation of many methods of statistical analysis. At a high level, the theorem states the distribution of many sample means, known as a sampling distribution, will be normally distributed. This rule holds even if the underlying distribution itself is not normally distributed. As a result we can treat the sample mean as if it were drawn normal distribution.\n",
        "\n",
        "To illustrate, let's create a sampling distribution by taking 200 samples from our population and then making 200 point estimates of the mean:"
      ]
    },
    {
      "cell_type": "markdown",
      "metadata": {
        "id": "4MF7dciYzCSG"
      },
      "source": [
        "## **Question 3**"
      ]
    },
    {
      "cell_type": "markdown",
      "metadata": {
        "id": "usKoD76SzEUm"
      },
      "source": [
        "## **Central limit theorem to the recourse!**"
      ]
    },
    {
      "cell_type": "markdown",
      "metadata": {
        "id": "Bw57AkHVzIb2"
      },
      "source": [
        "The central limit theorem is one of the most important results of probability theory and serves as the foundation of many methods of statistical analysis. At a high level, the theorem states the distribution of many sample means, known as a sampling distribution, will be normally distributed. This rule holds even if the underlying distribution itself is not normally distributed. As a result we can treat the sample mean as if it were drawn normal distribution."
      ]
    },
    {
      "cell_type": "markdown",
      "metadata": {
        "id": "CM1juyBjzTre"
      },
      "source": [
        "## **Question 3-a**"
      ]
    },
    {
      "cell_type": "markdown",
      "metadata": {
        "id": "z9aFXCIGzNYe"
      },
      "source": [
        "Create a sampling distribution by taking 200 samples from the whole population. Thereafter make 200 point estimates of the mean"
      ]
    },
    {
      "cell_type": "code",
      "execution_count": 11,
      "metadata": {
        "id": "Leja7w_Prk6z",
        "trusted": true
      },
      "outputs": [],
      "source": [
        "\n",
        "np.random.seed(10)\n",
        "\n",
        "point_estimates = []         # Make empty list to hold point estimates\n",
        "\n",
        "for x in range(200):         # Generate 200 samples\n",
        "    sample = np.random.choice(a= population_ages, size=500)\n",
        "    point_estimates.append( sample.mean() )"
      ]
    },
    {
      "cell_type": "markdown",
      "metadata": {
        "id": "hrmSQVTuzsuO"
      },
      "source": [
        "## **Question 3-b**"
      ]
    },
    {
      "cell_type": "markdown",
      "metadata": {
        "id": "3lpNzzIJzZ4_"
      },
      "source": [
        "Visualize using an histogram the distribution of the 200 point estimates of the mean. Compare the mean of these new observatiosn with the true mean of the whole population and comment!"
      ]
    },
    {
      "cell_type": "code",
      "execution_count": 12,
      "metadata": {
        "colab": {
          "base_uri": "https://localhost:8080/",
          "height": 770
        },
        "id": "bsK9G6HKzwdA",
        "outputId": "9090f702-c99a-46e1-8f49-bc6c25c371a2"
      },
      "outputs": [
        {
          "data": {
            "text/plain": [
              "<Axes: ylabel='Density'>"
            ]
          },
          "execution_count": 12,
          "metadata": {},
          "output_type": "execute_result"
        },
        {
          "data": {
            "image/png": "[encoded data removed]",
            "text/plain": [
              "<Figure size 900x900 with 1 Axes>"
            ]
          },
          "metadata": {},
          "output_type": "display_data"
        }
      ],
      "source": [
        "pd.DataFrame(point_estimates).plot(kind=\"density\",  # Plot sample mean density\n",
        "                                   figsize=(9,9),\n",
        "                                   xlim=(41,45))"
      ]
    },
    {
      "cell_type": "markdown",
      "metadata": {
        "id": "DFv7fJxKrk6z"
      },
      "source": [
        "The sampling distribution appears to be roughly normal, despite the bimodal population distribution that the samples were drawn from. In addition, the mean of the sampling distribution approaches the true population mean:"
      ]
    },
    {
      "cell_type": "code",
      "execution_count": null,
      "metadata": {
        "id": "ThWD6dX6rk6z",
        "trusted": true
      },
      "outputs": [],
      "source": [
        "population_ages.mean() - np.array(point_estimates).mean()"
      ]
    },
    {
      "cell_type": "markdown",
      "metadata": {
        "id": "yNhf5wDvrk6z"
      },
      "source": [
        "The more samples we take, the better our estimate of the population parameter is likely to be."
      ]
    },
    {
      "cell_type": "markdown",
      "metadata": {
        "id": "qd1xDlyT0C8h"
      },
      "source": [
        "## **Exercise 3**"
      ]
    },
    {
      "cell_type": "markdown",
      "metadata": {
        "id": "lY38UvO8rk6z"
      },
      "source": [
        "## **Confidence Intervals**"
      ]
    },
    {
      "cell_type": "markdown",
      "metadata": {
        "id": "6NGO8c-qrk6z"
      },
      "source": [
        "A point estimate can give you a rough idea of a population parameter like the mean, but estimates are prone to error and taking multiple samples to get improved estimates may not be feasible. A confidence interval is a range of values above and below a point estimate that captures the true population parameter at some predetermined confidence level. For example, if you want to have a 95% chance of capturing the true population parameter with a point estimate and a corresponding confidence interval, you'd set your confidence level to 95%. Higher confidence levels result in a wider confidence intervals.\n",
        "\n",
        "Calculate a confidence interval by taking a point estimate and then adding and subtracting a margin of error to create a range. Margin of error is based on your desired confidence level, the spread of the data and the size of your sample. The way you calculate the margin of error depends on whether you know the standard deviation of the population or not."
      ]
    },
    {
      "cell_type": "markdown",
      "metadata": {
        "id": "8sdGtc6Y6Obq"
      },
      "source": [
        "## **Part I**"
      ]
    },
    {
      "cell_type": "markdown",
      "metadata": {
        "id": "IO5c6DxQ5fmH"
      },
      "source": [
        "## **First case : you know the standard deviation of the population**"
      ]
    },
    {
      "cell_type": "markdown",
      "metadata": {
        "id": "GDCq9P0c5kxX"
      },
      "source": [
        "In this case, the margin of error is equal to:"
      ]
    },
    {
      "cell_type": "markdown",
      "metadata": {
        "id": "OvpBrEjJrk6z"
      },
      "source": [
        "$$z \\times \\frac{\\sigma}{\\sqrt{n}}$$"
      ]
    },
    {
      "cell_type": "markdown",
      "metadata": {
        "id": "IBjgiE0grk6z"
      },
      "source": [
        "Where σ (sigma) is the population standard deviation, n is sample size, and z is a number known as the z-critical value. The z-critical value is the number of standard deviations you'd have to go from the mean of the normal distribution to capture the proportion of the data associated with the desired confidence level. For instance, we know that roughly 95% of the data in a normal distribution lies within 2 standard deviations of the mean, so we could use 2 as the z-critical value for a 95% confidence interval (although it is more exact to get z-critical values with stats.norm.ppf().)."
      ]
    },
    {
      "cell_type": "markdown",
      "metadata": {
        "id": "C1bAgTTZ4LgN"
      },
      "source": [
        "## **Question 1**"
      ]
    },
    {
      "cell_type": "markdown",
      "metadata": {
        "id": "AdppBGJ74Nyc"
      },
      "source": [
        "Calculate a 95% confidence for the mean point estimate calculated in Exercise 1 using the formula given in Lecture 2:"
      ]
    },
    {
      "cell_type": "code",
      "execution_count": null,
      "metadata": {
        "id": "tkhzWKl2rk60",
        "trusted": true
      },
      "outputs": [],
      "source": [
        "np.random.seed(10)\n",
        "\n",
        "sample_size = 1000\n",
        "sample = np.random.choice(a= population_ages, size = sample_size)\n",
        "sample_mean = sample.mean()\n",
        "\n",
        "z_critical = stats.norm.ppf(q = 0.975)  # Get the z-critical value*\n",
        "\n",
        "print(\"z-critical value:\")              # Check the z-critical value\n",
        "print(z_critical)\n",
        "\n",
        "pop_stdev = population_ages.std()  # Get the population standard deviation\n",
        "\n",
        "margin_of_error = z_critical * (pop_stdev/math.sqrt(sample_size))\n",
        "\n",
        "confidence_interval = (sample_mean - margin_of_error,\n",
        "                       sample_mean + margin_of_error)\n",
        "\n",
        "print(\"Confidence interval:\")\n",
        "print(confidence_interval)"
      ]
    },
    {
      "cell_type": "markdown",
      "metadata": {
        "id": "lhqVrk1srk60"
      },
      "source": [
        "*Comment: We use stats.norm.ppf(q = 0.975) to get the desired z-critical value instead of q = 0.95 because the distribution has two tails.*\n",
        "\n",
        "Notice that the confidence interval we calculated captures the true population mean of 43.0023."
      ]
    },
    {
      "cell_type": "markdown",
      "metadata": {
        "id": "GsTYmk3M4bH0"
      },
      "source": [
        "## **Question 2**"
      ]
    },
    {
      "cell_type": "markdown",
      "metadata": {
        "id": "VyCBwdJC5Sku"
      },
      "source": [
        "## **Question 2-a**"
      ]
    },
    {
      "cell_type": "markdown",
      "metadata": {
        "id": "q0MbvKxJ4eZ0"
      },
      "source": [
        "Sample several times the whole population and create several confidence intervals from the formula corresponding to these samples"
      ]
    },
    {
      "cell_type": "code",
      "execution_count": 13,
      "metadata": {
        "id": "GbzWTsy3rk60",
        "trusted": true
      },
      "outputs": [],
      "source": [
        "np.random.seed(12)\n",
        "\n",
        "sample_size = 1000\n",
        "\n",
        "intervals = []\n",
        "sample_means = []\n",
        "\n",
        "for sample in range(25):\n",
        "    sample = np.random.choice(a= population_ages, size = sample_size)\n",
        "    sample_mean = sample.mean()\n",
        "    sample_means.append(sample_mean)\n",
        "\n",
        "    z_critical = stats.norm.ppf(q = 0.975)  # Get the z-critical value*\n",
        "\n",
        "    pop_stdev = population_ages.std()  # Get the population standard deviation\n",
        "\n",
        "    stats.norm.ppf(q = 0.025)\n",
        "\n",
        "    margin_of_error = z_critical * (pop_stdev/math.sqrt(sample_size))\n",
        "\n",
        "    confidence_interval = (sample_mean - margin_of_error,\n",
        "                           sample_mean + margin_of_error)\n",
        "\n",
        "    intervals.append(confidence_interval)"
      ]
    },
    {
      "cell_type": "markdown",
      "metadata": {
        "id": "B6QNcS0j5W0n"
      },
      "source": [
        "## **Question 2-b**"
      ]
    },
    {
      "cell_type": "markdown",
      "metadata": {
        "id": "_5tw8aOz5VdH"
      },
      "source": [
        "Plot them to get a better sense of what it means to \"capture\" the true mean:"
      ]
    },
    {
      "cell_type": "code",
      "execution_count": 16,
      "metadata": {
        "colab": {
          "base_uri": "https://localhost:8080/",
          "height": 753
        },
        "id": "xqLA7_AZrk60",
        "outputId": "a871f24b-7344-4a33-8817-5fe2193c7567",
        "trusted": true
      },
      "outputs": [
        {
          "data": {
            "image/png": "[encoded data removed]",
            "text/plain": [
              "<Figure size 900x900 with 1 Axes>"
            ]
          },
          "metadata": {},
          "output_type": "display_data"
        }
      ],
      "source": [
        "plt.figure(figsize=(9,9))\n",
        "\n",
        "plt.errorbar(x=np.arange(0.1, 25, 1),\n",
        "             y=sample_means,\n",
        "             yerr=[(top-bot)/2 for bot,top in intervals],\n",
        "             fmt='o')\n",
        "\n",
        "plt.hlines(xmin=0, xmax=25,\n",
        "           y=43.0023,\n",
        "           linewidth=2.0,\n",
        "           color=\"red\");"
      ]
    },
    {
      "cell_type": "markdown",
      "metadata": {
        "id": "LpjIGDY1rk60"
      },
      "source": [
        "In the plot above, all but one of the 95% confidence intervals overlap the red line marking the true mean. This is to be expected: since a 95% confidence interval captures the true mean 95% of the time, we'd expect our interval to miss the true mean 5% of the time.\n"
      ]
    },
    {
      "cell_type": "markdown",
      "metadata": {
        "id": "SsX0MqzV6TZ6"
      },
      "source": [
        "## **Part II**"
      ]
    },
    {
      "cell_type": "markdown",
      "metadata": {
        "id": "OAMUuRU85yHJ"
      },
      "source": [
        "## **Second case : you do not know the standard deviation of the population**"
      ]
    },
    {
      "cell_type": "markdown",
      "metadata": {
        "id": "M5UGhTuC5uk4"
      },
      "source": [
        "In this case, you have to use the standard deviation of your sample as a stand in when creating confidence intervals. Since the sample standard deviation may not match the population parameter the interval will have more error when you don't know the population standard deviation. To account for this error, we use what's known as a t-critical value instead of the z-critical value. The t-critical value is drawn from what's known as a t-distribution--a distribution that closely resembles the normal distribution but that gets wider and wider as the sample size falls. The t-distribution is available in scipy.stats with the nickname \"t\" so we can get t-critical values with stats.t.ppf().\n",
        "\n",
        "Let's take a new, smaller sample and then create a confidence interval without the population standard deviation, using the t-distribution:"
      ]
    },
    {
      "cell_type": "markdown",
      "metadata": {
        "id": "pJEIEegD5_HB"
      },
      "source": [
        "To account for this error, we use what's known as a t-critical value instead of the z-critical value. The t-critical value is drawn from what's known as a t-distribution--a distribution that closely resembles the normal distribution but that gets wider and wider as the sample size falls. The t-distribution is available in scipy.stats with the nickname \"t\" so we can get t-critical values with stats.t.ppf()."
      ]
    },
    {
      "cell_type": "markdown",
      "metadata": {
        "id": "WBXMlRW16Ec5"
      },
      "source": [
        "## **Question 4**"
      ]
    },
    {
      "cell_type": "markdown",
      "metadata": {
        "id": "xg4S1Ukd6WyC"
      },
      "source": [
        "## **Question 4-a**"
      ]
    },
    {
      "cell_type": "markdown",
      "metadata": {
        "id": "9YhjiWGj6a9a"
      },
      "source": [
        "Take a new, smaller sample of size 25"
      ]
    },
    {
      "cell_type": "code",
      "execution_count": 17,
      "metadata": {
        "id": "Jyfetmqm6fb8"
      },
      "outputs": [],
      "source": [
        "sample_size = 25\n",
        "sample = np.random.choice(a= population_ages, size = sample_size)"
      ]
    },
    {
      "cell_type": "markdown",
      "metadata": {
        "id": "C7tjiaU06BIy"
      },
      "source": [
        "Create a confidence interval from the formula without the population standard deviation, using the t-distribution. Comment!"
      ]
    },
    {
      "cell_type": "code",
      "execution_count": 18,
      "metadata": {
        "colab": {
          "base_uri": "https://localhost:8080/"
        },
        "id": "OvNXg4Evrk60",
        "outputId": "232f5ac7-df24-48c8-b26b-5644143e379d",
        "trusted": true
      },
      "outputs": [
        {
          "name": "stdout",
          "output_type": "stream",
          "text": [
            "t-critical value:\n",
            "2.0638985616280205\n",
            "Confidence interval:\n",
            "(np.float64(37.64682898970271), np.float64(48.85317101029729))\n"
          ]
        }
      ],
      "source": [
        "np.random.seed(10)\n",
        "\n",
        "t_critical = stats.t.ppf(q = 0.975, df=24)  # Get the t-critical value*\n",
        "\n",
        "print(\"t-critical value:\")                  # Check the t-critical value\n",
        "print(t_critical)\n",
        "\n",
        "sample_stdev = sample.std(ddof=1)    # Get the sample standard deviation\n",
        "\n",
        "sigma = sample_stdev/math.sqrt(sample_size)  # Standard deviation estimate\n",
        "margin_of_error = t_critical * sigma\n",
        "\n",
        "confidence_interval = (sample_mean - margin_of_error,\n",
        "                       sample_mean + margin_of_error)\n",
        "\n",
        "print(\"Confidence interval:\")\n",
        "print(confidence_interval)"
      ]
    },
    {
      "cell_type": "markdown",
      "metadata": {
        "id": "Muag5I4Zrk60"
      },
      "source": [
        "*Note: when using the t-distribution, you have to supply the degrees of freedom (df). For this type of test, the degrees of freedom is equal to the sample size minus 1. If you have a large sample size, the t-distribution approaches the normal distribution.*\n",
        "\n",
        "Notice that the t-critical value is larger than the z-critical value we used for 95% confidence interval. This allows the confidence interval to cast a larger net to make up for the variability caused by using the sample standard deviation in place of the population standard deviation. The end result is a much wider confidence interval (an interval with a larger margin of error.).\n",
        "\n"
      ]
    },
    {
      "cell_type": "markdown",
      "metadata": {
        "id": "mZxwyYmo7B99"
      },
      "source": [
        "## **Question 4-b**"
      ]
    },
    {
      "cell_type": "markdown",
      "metadata": {
        "id": "jmtcCkXW63x9"
      },
      "source": [
        "What happens you have a large sample? Compare the t-critical value with the z-critical value. Comment!"
      ]
    },
    {
      "cell_type": "code",
      "execution_count": 19,
      "metadata": {
        "colab": {
          "base_uri": "https://localhost:8080/"
        },
        "id": "6kr4EPijrk60",
        "outputId": "750b621c-ca8d-4eeb-b5b9-14a82077705d",
        "trusted": true
      },
      "outputs": [
        {
          "data": {
            "text/plain": [
              "np.float64(0.0023774765933946007)"
            ]
          },
          "execution_count": 19,
          "metadata": {},
          "output_type": "execute_result"
        }
      ],
      "source": [
        "# Check the difference between critical values with a sample size of 1000\n",
        "\n",
        "stats.t.ppf(q=0.975, df= 999) - stats.norm.ppf(0.975)"
      ]
    },
    {
      "cell_type": "markdown",
      "metadata": {
        "id": "Y98vjhZC7FGe"
      },
      "source": [
        "## **Question 4-c**"
      ]
    },
    {
      "cell_type": "markdown",
      "metadata": {
        "id": "uu7KWHOork60"
      },
      "source": [
        "Calculate the confidence interval using the Python function stats.t.interval():"
      ]
    },
    {
      "cell_type": "code",
      "execution_count": 23,
      "metadata": {
        "colab": {
          "base_uri": "https://localhost:8080/"
        },
        "id": "2e5366WLrk60",
        "outputId": "5c3451f1-f2e0-4cdd-c6ec-68b8d96a7694",
        "trusted": true
      },
      "outputs": [
        {
          "data": {
            "text/plain": [
              "(np.float64(37.64682898970271), np.float64(48.85317101029729))"
            ]
          },
          "execution_count": 23,
          "metadata": {},
          "output_type": "execute_result"
        }
      ],
      "source": [
        "stats.t.interval(confidence = 0.95,              # Confidence level\n",
        "                 df= 24,                    # Degrees of freedom\n",
        "                 loc = sample_mean,         # Sample mean\n",
        "                 scale = sigma)             # Standard deviation estimate"
      ]
    },
    {
      "cell_type": "markdown",
      "metadata": {
        "id": "ewgGRowt85uX"
      },
      "source": [
        "## **Part III**"
      ]
    },
    {
      "cell_type": "markdown",
      "metadata": {
        "id": "U0rMRjWf8X1d"
      },
      "source": [
        "## **Confidence interval for a population proportion**"
      ]
    },
    {
      "cell_type": "markdown",
      "metadata": {
        "id": "wvomjHvqrk60"
      },
      "source": [
        "We can also make a confidence interval for a point estimate of a population proportion. In this case, the margin of error equals:\n",
        "\n",
        "$$z \\times \\sqrt{\\frac{p(1-p)}{n}}$$\n",
        "\n",
        "Where z is the z-critical value for our confidence level, p is the point estimate of the population proportion and n is the sample size."
      ]
    },
    {
      "cell_type": "markdown",
      "metadata": {
        "id": "vwfTi6D18V7d"
      },
      "source": [
        "## **Question 5**"
      ]
    },
    {
      "cell_type": "markdown",
      "metadata": {
        "id": "O40XeUn49Ino"
      },
      "source": [
        "## **Question 5-a**"
      ]
    },
    {
      "cell_type": "markdown",
      "metadata": {
        "id": "sb7lS7hL8hrP"
      },
      "source": [
        "Calculate a 95% confidence interval for Humanities according to the sample proportion ($p=0.338$) we calculated earlier :"
      ]
    },
    {
      "cell_type": "code",
      "execution_count": 24,
      "metadata": {
        "colab": {
          "base_uri": "https://localhost:8080/"
        },
        "id": "2jMr-B9yrk61",
        "outputId": "66b80e8f-b802-47cc-ee23-b635c5ea32be",
        "trusted": true
      },
      "outputs": [
        {
          "data": {
            "text/plain": [
              "(np.float64(0.3086819260543392), np.float64(0.36731807394566085))"
            ]
          },
          "execution_count": 24,
          "metadata": {},
          "output_type": "execute_result"
        }
      ],
      "source": [
        "z_critical = stats.norm.ppf(0.975)      # Record z-critical value\n",
        "\n",
        "p = 0.338                              # Point estimate of proportion\n",
        "\n",
        "n = 1000                                # Sample size\n",
        "\n",
        "margin_of_error = z_critical * math.sqrt((p*(1-p))/n)\n",
        "\n",
        "confidence_interval = (p - margin_of_error,  # Calculate the the interval\n",
        "                       p + margin_of_error)\n",
        "\n",
        "confidence_interval"
      ]
    },
    {
      "cell_type": "markdown",
      "metadata": {
        "id": "ftqHIBeUrk61"
      },
      "source": [
        "The output shows that the confidence interval captured the true population parameter of 0.2. Similar to our population mean point estimates, we can use the scipy stats.distribution.interval() function to calculate a confidence interval for a population proportion for us. In this case were working with z-critical values so we want to work with the normal distribution instead of the t distribution:"
      ]
    },
    {
      "cell_type": "markdown",
      "metadata": {
        "id": "ZQ4k4AeK9DeH"
      },
      "source": [
        "## **Question 5-b**"
      ]
    },
    {
      "cell_type": "markdown",
      "metadata": {
        "id": "D8yqfi2C9F8n"
      },
      "source": [
        "Same with Python"
      ]
    },
    {
      "cell_type": "code",
      "execution_count": null,
      "metadata": {
        "id": "BggC2zSIrk6-",
        "trusted": true
      },
      "outputs": [],
      "source": [
        "stats.norm.interval(alpha = 0.95,    # Confidence level\n",
        "                   loc =  0.192,     # Point estimate of proportion\n",
        "                   scale = math.sqrt((p*(1-p))/n))  # Scaling factor"
      ]
    }
  ],
  "metadata": {
    "colab": {
      "provenance": []
    },
    "kaggle": {
      "accelerator": "none",
      "dataSources": [
        {
          "databundleVersionId": 26502,
          "sourceId": 3136,
          "sourceType": "competition"
        }
      ],
      "dockerImageVersionId": 24140,
      "isGpuEnabled": false,
      "isInternetEnabled": false,
      "language": "python",
      "sourceType": "notebook"
    },
    "kernelspec": {
      "display_name": "Python 3",
      "language": "python",
      "name": "python3"
    },
    "language_info": {
      "codemirror_mode": {
        "name": "ipython",
        "version": 3
      },
      "file_extension": ".py",
      "mimetype": "text/x-python",
      "name": "python",
      "nbconvert_exporter": "python",
      "pygments_lexer": "ipython3",
      "version": "3.6.4"
    }
  },
  "nbformat": 4,
  "nbformat_minor": 0
}
